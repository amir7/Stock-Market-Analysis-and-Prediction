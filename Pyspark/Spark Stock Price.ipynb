{
 "cells": [
  {
   "cell_type": "code",
   "execution_count": 1,
   "metadata": {
    "collapsed": false
   },
   "outputs": [
    {
     "data": {
      "text/plain": [
       "['Adj_Open,Adj_High,Adj_Low,Adj_Close',\n",
       " '0.414962396,0.416694413,0.414962396,0.414962396']"
      ]
     },
     "execution_count": 1,
     "metadata": {},
     "output_type": "execute_result"
    }
   ],
   "source": [
    "raw_data = sc.textFile(\"Apple_Dataset.csv\")\n",
    "\n",
    "raw_data.take(2)"
   ]
  },
  {
   "cell_type": "code",
   "execution_count": 2,
   "metadata": {
    "collapsed": false
   },
   "outputs": [
    {
     "data": {
      "text/plain": [
       "['0.414962396,0.416694413,0.414962396,0.414962396',\n",
       " '0.395188536,0.395188536,0.393312184,0.393312184']"
      ]
     },
     "execution_count": 2,
     "metadata": {},
     "output_type": "execute_result"
    }
   ],
   "source": [
    "header = raw_data.first()\n",
    "\n",
    "dataLines= raw_data.filter(lambda ln: ln not in header)\n",
    "\n",
    "dataLines.take(2)"
   ]
  },
  {
   "cell_type": "code",
   "execution_count": 3,
   "metadata": {
    "collapsed": false
   },
   "outputs": [
    {
     "data": {
      "text/plain": [
       "(9575, 9576)"
      ]
     },
     "execution_count": 3,
     "metadata": {},
     "output_type": "execute_result"
    }
   ],
   "source": [
    "dataLines.count(), raw_data.count()"
   ]
  },
  {
   "cell_type": "code",
   "execution_count": 4,
   "metadata": {
    "collapsed": true
   },
   "outputs": [],
   "source": [
    "csvData=dataLines.map((lambda x: x.split(\",\")))"
   ]
  },
  {
   "cell_type": "code",
   "execution_count": 5,
   "metadata": {
    "collapsed": false
   },
   "outputs": [
    {
     "data": {
      "text/plain": [
       "[['0.414962396', '0.416694413', '0.414962396', '0.414962396'],\n",
       " ['0.395188536', '0.395188536', '0.393312184', '0.393312184']]"
      ]
     },
     "execution_count": 5,
     "metadata": {},
     "output_type": "execute_result"
    }
   ],
   "source": [
    "csvData.take(2)"
   ]
  },
  {
   "cell_type": "code",
   "execution_count": 6,
   "metadata": {
    "collapsed": true
   },
   "outputs": [],
   "source": [
    "import math\n",
    "from pyspark.mllib.linalg import Vectors\n",
    "from pyspark.mllib.regression import LabeledPoint\n",
    "from numpy import array\n",
    "from pyspark.sql import Row"
   ]
  },
  {
   "cell_type": "code",
   "execution_count": 7,
   "metadata": {
    "collapsed": true
   },
   "outputs": [],
   "source": [
    "#labelPoint that MLLIB can use.All data must be numeric\n",
    "def vector_data(fields):\n",
    "    Adj_open = float(fields[0])\n",
    "    Adj_high = float(fields[1])\n",
    "    Adj_low = float(fields[2])\n",
    "    Adj_close = float(fields[3])\n",
    "    return Vectors.dense([Adj_open,Adj_high,Adj_low,Adj_close]) "
   ]
  },
  {
   "cell_type": "code",
   "execution_count": 8,
   "metadata": {
    "collapsed": false
   },
   "outputs": [
    {
     "data": {
      "text/plain": [
       "[DenseVector([0.415, 0.4167, 0.415, 0.415]),\n",
       " DenseVector([0.3952, 0.3952, 0.3933, 0.3933])]"
      ]
     },
     "execution_count": 8,
     "metadata": {},
     "output_type": "execute_result"
    }
   ],
   "source": [
    "autoVectors = csvData.map(vector_data)\n",
    "autoVectors.take(2)"
   ]
  },
  {
   "cell_type": "code",
   "execution_count": 9,
   "metadata": {
    "collapsed": true
   },
   "outputs": [],
   "source": [
    "def transformToLabelPoint (instr):\n",
    "    lp = (float(instr[3]),Vectors.dense([instr[0],instr[1],instr[2]]))\n",
    "    return lp"
   ]
  },
  {
   "cell_type": "code",
   "execution_count": 10,
   "metadata": {
    "collapsed": true
   },
   "outputs": [],
   "source": [
    "from pyspark.sql import SQLContext\n",
    "sqlcontext = SQLContext(sc)"
   ]
  },
  {
   "cell_type": "code",
   "execution_count": 11,
   "metadata": {
    "collapsed": false
   },
   "outputs": [
    {
     "name": "stdout",
     "output_type": "stream",
     "text": [
      "+-----------+--------------------+\n",
      "|      label|            features|\n",
      "+-----------+--------------------+\n",
      "|0.414962396|[0.414962396,0.41...|\n",
      "|0.393312184|[0.395188536,0.39...|\n",
      "+-----------+--------------------+\n",
      "only showing top 2 rows\n",
      "\n"
     ]
    }
   ],
   "source": [
    "autoLp= autoVectors.map(transformToLabelPoint)\n",
    "autoDF = sqlcontext.createDataFrame(autoLp,[\"label\",\"features\"])\n",
    "autoDF.select(\"label\",\"features\").show(2)"
   ]
  },
  {
   "cell_type": "code",
   "execution_count": 12,
   "metadata": {
    "collapsed": false
   },
   "outputs": [
    {
     "data": {
      "text/plain": [
       "(9576, 8608, 967)"
      ]
     },
     "execution_count": 12,
     "metadata": {},
     "output_type": "execute_result"
    }
   ],
   "source": [
    "#Split into training and testing data\n",
    "(trainingData, testData) = autoDF.randomSplit([0.9, 0.1],seed=0)\n",
    "raw_data.count(),trainingData.count(),testData.count()"
   ]
  },
  {
   "cell_type": "code",
   "execution_count": 13,
   "metadata": {
    "collapsed": false
   },
   "outputs": [
    {
     "data": {
      "text/plain": [
       "[Row(label=0.173201696, features=DenseVector([0.1751, 0.1751, 0.1732])),\n",
       " Row(label=0.189511522, features=DenseVector([0.1895, 0.1912, 0.1895]))]"
      ]
     },
     "execution_count": 13,
     "metadata": {},
     "output_type": "execute_result"
    }
   ],
   "source": [
    "testData.take(2)"
   ]
  },
  {
   "cell_type": "code",
   "execution_count": 14,
   "metadata": {
    "collapsed": true
   },
   "outputs": [],
   "source": [
    "#Build the model on training data\n",
    "from pyspark.ml.regression import LinearRegression\n",
    "lr = LinearRegression(maxIter=10)\n",
    "lrModel = lr.fit(trainingData)"
   ]
  },
  {
   "cell_type": "code",
   "execution_count": 15,
   "metadata": {
    "collapsed": false
   },
   "outputs": [
    {
     "name": "stdout",
     "output_type": "stream",
     "text": [
      "Coefficients:[-0.555261962948,0.82677350476,0.727976861395]\n"
     ]
    }
   ],
   "source": [
    "print(\"Coefficients:\"+str(lrModel.coefficients))"
   ]
  },
  {
   "cell_type": "code",
   "execution_count": 16,
   "metadata": {
    "collapsed": false
   },
   "outputs": [
    {
     "name": "stdout",
     "output_type": "stream",
     "text": [
      "Intercept:-0.0012528138087026146\n"
     ]
    }
   ],
   "source": [
    "print(\"Intercept:\"+str(lrModel.intercept))"
   ]
  },
  {
   "cell_type": "code",
   "execution_count": 17,
   "metadata": {
    "collapsed": false
   },
   "outputs": [
    {
     "name": "stderr",
     "output_type": "stream",
     "text": [
      "/usr/lib/spark/python/pyspark/ml/regression.py:123: UserWarning: weights is deprecated. Use coefficients instead.\n",
      "  warnings.warn(\"weights is deprecated. Use coefficients instead.\")\n"
     ]
    },
    {
     "name": "stdout",
     "output_type": "stream",
     "text": [
      "+--------------------+-----------+-------------------+\n",
      "|            features|      label|         prediction|\n",
      "+--------------------+-----------+-------------------+\n",
      "|[0.175078048,0.17...|0.173201696|0.17236972398372213|\n",
      "|[0.189511522,0.19...|0.189511522|0.18959374046995067|\n",
      "|[0.191243539,0.19...|0.189511522|0.18863201731067164|\n",
      "|[0.191243539,0.19...|0.189511522|0.18863201731067164|\n",
      "|[0.193119891,0.19...|0.193119891|0.19320026343994517|\n",
      "|[0.193119891,0.19...|0.193119891| 0.1946322492053396|\n",
      "|[0.194851908,0.19...|0.194851908|0.19493139434560391|\n",
      "|[0.203800662,0.20...|0.202068645|0.20118271612682553|\n",
      "|[0.207553365,0.20...|0.207553365|0.20762635332094642|\n",
      "|[0.220110488,0.22...|0.220110488|0.21874506637170585|\n",
      "|[0.220110488,0.22...|0.220110488|0.22029638449090985|\n",
      "|[0.227327226,0.22...|0.220110488|0.22070449403294243|\n",
      "|[0.225595209,0.22...|0.223718857|0.22286104056620326|\n",
      "|[0.229203577,0.23...|0.227327226|0.22789954903008067|\n",
      "|[0.232667611,0.23...|0.227327226|0.22740808847691701|\n",
      "|[0.234543963,0.23...|0.234543963| 0.2346031430175899|\n",
      "|[0.238152332,0.24...|0.238152332|0.23832899751462047|\n",
      "|[0.243492717,0.24...|0.238152332|0.24276227839121456|\n",
      "|[0.245369069,0.24...|0.243637052|0.24272985686314724|\n",
      "|[0.245369069,0.24...|0.245369069|0.24542271092808504|\n",
      "+--------------------+-----------+-------------------+\n",
      "only showing top 20 rows\n",
      "\n"
     ]
    }
   ],
   "source": [
    "#Predict on test data\n",
    "predictions = lrModel.transform(testData)\n",
    "predictions.select(\"features\",\"label\",\"prediction\").show()"
   ]
  },
  {
   "cell_type": "code",
   "execution_count": 18,
   "metadata": {
    "collapsed": false
   },
   "outputs": [
    {
     "data": {
      "text/plain": [
       "0.9999620802742194"
      ]
     },
     "execution_count": 18,
     "metadata": {},
     "output_type": "execute_result"
    }
   ],
   "source": [
    "from pyspark.ml.evaluation import RegressionEvaluator\n",
    "evaluator =  RegressionEvaluator(predictionCol=\"prediction\",labelCol=\"label\",metricName=\"r2\")\n",
    "\n",
    "evaluator.evaluate(predictions)"
   ]
  },
  {
   "cell_type": "code",
   "execution_count": 21,
   "metadata": {
    "collapsed": false
   },
   "outputs": [
    {
     "data": {
      "text/plain": [
       "0.41492927452568207"
      ]
     },
     "execution_count": 21,
     "metadata": {},
     "output_type": "execute_result"
    }
   ],
   "source": [
    "y = -0.0012528138087026146+(-0.555261962948*0.414962396)+(0.82677350476*0.416694413)+(0.727976861395*0.414962396)\n",
    "y"
   ]
  },
  {
   "cell_type": "code",
   "execution_count": null,
   "metadata": {
    "collapsed": true
   },
   "outputs": [],
   "source": []
  }
 ],
 "metadata": {
  "kernelspec": {
   "display_name": "Python 3",
   "language": "python",
   "name": "python3"
  },
  "language_info": {
   "codemirror_mode": {
    "name": "ipython",
    "version": 3
   },
   "file_extension": ".py",
   "mimetype": "text/x-python",
   "name": "python",
   "nbconvert_exporter": "python",
   "pygments_lexer": "ipython3",
   "version": "3.5.1"
  }
 },
 "nbformat": 4,
 "nbformat_minor": 0
}
